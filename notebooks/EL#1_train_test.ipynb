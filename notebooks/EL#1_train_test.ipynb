{
 "cells": [
  {
   "cell_type": "code",
   "execution_count": null,
   "metadata": {
    "id": "3rdtuM3qVRcv"
   },
   "outputs": [],
   "source": [
    "from google.colab import drive\n",
    "drive.mount('/content/drive')"
   ]
  },
  {
   "cell_type": "code",
   "execution_count": null,
   "metadata": {
    "id": "Y_LpVQBsVT__"
   },
   "outputs": [],
   "source": [
    "!pip install torchnet\n",
    "!pip install pytorch-ignite"
   ]
  },
  {
   "cell_type": "code",
   "execution_count": null,
   "metadata": {
    "id": "op-oL3z5VCIs"
   },
   "outputs": [],
   "source": [
    "from __future__ import print_function, division\n",
    "import os\n",
    "import time\n",
    "import copy\n",
    "import numpy as np\n",
    "import matplotlib.pyplot as plt\n",
    "plt.ion()   # interactive mode"
   ]
  },
  {
   "cell_type": "code",
   "execution_count": null,
   "metadata": {
    "id": "q-c-DzKLVCIs"
   },
   "outputs": [],
   "source": [
    "import torch\n",
    "import torchvision\n",
    "import torch.nn as nn\n",
    "import torch.optim as optim\n",
    "import torch.nn.functional as F\n",
    "from torch.optim import lr_scheduler\n",
    "from torchvision import datasets, models, transforms"
   ]
  },
  {
   "cell_type": "code",
   "execution_count": null,
   "metadata": {
    "id": "bHa9rezPVCIt"
   },
   "outputs": [],
   "source": [
    "ROOT = '/content/drive/MyDrive/mura_clahe'\n",
    "data_dir = os.path.join(ROOT, 'mura')\n",
    "images_dir = os.path.join(data_dir, 'images')\n",
    "train_dir = os.path.join(data_dir, 'train')\n",
    "val_dir = os.path.join(data_dir, 'val')"
   ]
  },
  {
   "cell_type": "code",
   "execution_count": null,
   "metadata": {
    "colab": {
     "base_uri": "https://localhost:8080/"
    },
    "id": "R5uGKSpcVCIt",
    "outputId": "c42c8856-9d1a-47d2-f624-0de07c41750f"
   },
   "outputs": [],
   "source": [
    "pretrained_size = 320\n",
    "\n",
    "pretrained_means = [0.485,0.456,0.406]\n",
    "\n",
    "pretrained_stds= [0.229,0.224,0.225]\n",
    "\n",
    "batch_size=8\n",
    "\n",
    "data_transforms = {\n",
    "    \n",
    "    'train': transforms.Compose([\n",
    "        transforms.Resize((pretrained_size,pretrained_size)),\n",
    "                           transforms.RandomHorizontalFlip(),\n",
    "                           transforms.RandomRotation(10),\n",
    "                           transforms.ToTensor(),\n",
    "                           transforms.Normalize(mean = pretrained_means, \n",
    "                                                std = pretrained_stds)\n",
    "    ]),\n",
    "    'val': transforms.Compose([\n",
    "        transforms.Resize((pretrained_size,pretrained_size)),\n",
    "                           transforms.ToTensor(),\n",
    "                           transforms.Normalize(mean = pretrained_means, \n",
    "                                                std = pretrained_stds)\n",
    "    ]),\n",
    "                   }\n",
    "print(\"Initializing Datasets and Dataloaders...\\n\")\n",
    "# Create training and validation datasets\n",
    "image_datasets = {x: datasets.ImageFolder(os.path.join(data_dir, x), data_transforms[x]) for x in ['train', 'val']}\n",
    "# Create training and validation dataloaders\n",
    "dataloaders = {x: torch.utils.data.DataLoader(image_datasets[x], batch_size=batch_size, shuffle=True, num_workers=4,pin_memory=True) for x in ['train', 'val']}\n",
    "device = torch.device(\"cuda:0\")\n",
    "dataset_sizes ={x:len(image_datasets[x]) for x in ['train','val']}"
   ]
  },
  {
   "cell_type": "code",
   "execution_count": null,
   "metadata": {
    "colab": {
     "base_uri": "https://localhost:8080/"
    },
    "id": "zXoSPQEaVCIu",
    "outputId": "6131ad41-9b52-4f08-81cf-370a4312aec8"
   },
   "outputs": [],
   "source": [
    "# Class names convert to index\n",
    "image_datasets['train'].class_to_idx\n",
    "class_names=image_datasets['train'].classes\n",
    "print(\">>Class Names: {}\\n\".format(image_datasets['train'].classes))\n",
    "print(\">>Class Index: {}\\n\".format(image_datasets['train'].class_to_idx))\n",
    "print(\">>Number of images in training={}\\n\".format(dataset_sizes['train']))\n",
    "print(\">>Number of images in test={}\\n\".format(dataset_sizes['val']))\n",
    "print(\"    Number of steps for training set={}\\n\".format(len(dataloaders['train'])))\n",
    "print(\"    Number of steps for test set={}\\n\".format(len(dataloaders['val']))) \n",
    "# 1:positive #0:negative"
   ]
  },
  {
   "cell_type": "code",
   "execution_count": null,
   "metadata": {
    "id": "GMyEzQ91VCIv"
   },
   "outputs": [],
   "source": [
    "train_losses = []\n",
    "train_acc = []\n",
    "val_losses = []\n",
    "val_acc = []"
   ]
  },
  {
   "cell_type": "code",
   "execution_count": null,
   "metadata": {
    "id": "OHUE6ivcVCIv"
   },
   "outputs": [],
   "source": [
    "def train_model(model, criterion, optimizer, scheduler, num_epochs):\n",
    "    since = time.time()\n",
    "    best_model_wts = copy.deepcopy(model.state_dict())\n",
    "    best_acc = 0.0\n",
    "    ghost=True\n",
    "    for epoch in range(num_epochs):\n",
    "        print('Epoch {}/{}'.format(epoch, num_epochs - 1))\n",
    "        print('-' * 10)\n",
    "\n",
    "        # Each epoch has a training and validation phase\n",
    "        for phase in ['train', 'val']:\n",
    "            if phase == 'train':\n",
    "                model.train()  # Set model to training mode\n",
    "            else:\n",
    "                model.eval()   # Set model to evaluate mode\n",
    "\n",
    "            running_loss = 0.0\n",
    "            running_corrects = 0\n",
    "\n",
    "            # Iterate over data.\n",
    "            for inputs, labels in dataloaders[phase]:\n",
    "                inputs = inputs.to(device)\n",
    "                labels = labels.to(device)\n",
    "\n",
    "                # zero the parameter gradients\n",
    "                optimizer.zero_grad()\n",
    "\n",
    "                # forward\n",
    "                # track history if only in train\n",
    "                with torch.set_grad_enabled(phase == 'train'):\n",
    "                    outputs = model(inputs)\n",
    "                    _, preds = torch.max(outputs, 1)\n",
    "                    loss = criterion(outputs, labels)\n",
    "\n",
    "                    # backward + optimize only if in training phase\n",
    "                    if phase == 'train':\n",
    "                        loss.backward()\n",
    "                        optimizer.step()\n",
    "\n",
    "                # statistics\n",
    "                running_loss += loss.detach() * inputs.size(0) #.item()\n",
    "                running_corrects += torch.sum(preds == labels.data)\n",
    "            if phase == 'train':\n",
    "                scheduler.step()\n",
    "\n",
    "            epoch_loss = running_loss/ dataset_sizes[phase]\n",
    "            epoch_acc = running_corrects.double() / dataset_sizes[phase]\n",
    "            \n",
    "            #Losses and accuracy per epochs are stored in array for plot graphs\n",
    "            if phase == 'train':              \n",
    "                train_losses.append(epoch_loss)\n",
    "                train_acc.append(epoch_acc)\n",
    "                print('{} Loss: {:.4f} Acc: {:.4f}'.format(\n",
    "                phase, epoch_loss, epoch_acc))\n",
    "            if phase == 'val':\n",
    "                print('{} Loss: {:.4f} Acc: {:.4f}'.format(\n",
    "                phase, epoch_loss, epoch_acc))\n",
    "                val_losses.append(epoch_loss)\n",
    "                val_acc.append(epoch_acc)\n",
    "            torch.cuda.empty_cache()\n",
    "\n",
    "            if phase == 'val' and epoch_acc > best_acc:\n",
    "                best_acc = epoch_acc\n",
    "                best_model_wts = copy.deepcopy(model.state_dict())\n",
    "            \n",
    "        print()\n",
    "\n",
    "        torch.cuda.empty_cache()\n",
    "    # Determine total traning time\n",
    "    time_elapsed = time.time() - since\n",
    "    print('Training complete in {:.0f}m {:.0f}s'.format(\n",
    "        time_elapsed // 60, time_elapsed % 60))\n",
    "    \n",
    "    # Print best validation accuracy \n",
    "    print('Best val Acc: {:4f}'.format(best_acc))\n",
    "\n",
    "    # load best model weights\n",
    "    model.load_state_dict(best_model_wts)\n",
    "    torch.save(best_model_wts, \"/content/drive/MyDrive/el1.pth\")\n",
    "    return model"
   ]
  },
  {
   "cell_type": "code",
   "execution_count": null,
   "metadata": {
    "id": "Ua1WH88B5dZf"
   },
   "outputs": [],
   "source": [
    "class SpinalNet_ResNext_50(nn.Module):\n",
    "    def __init__(self):\n",
    "        super(SpinalNet_ResNext_50, self).__init__()\n",
    "        \n",
    "        self.fc_spinal_layer1 = nn.Sequential(\n",
    "            nn.Linear(1024, 20),\n",
    "            nn.ReLU(inplace=True),)\n",
    "        self.fc_spinal_layer2 = nn.Sequential(\n",
    "            nn.Linear(1024+20, 20),\n",
    "            nn.ReLU(inplace=True),)\n",
    "        self.fc_spinal_layer3 = nn.Sequential(\n",
    "            nn.Linear(1024+20, 20),\n",
    "            nn.ReLU(inplace=True),)\n",
    "        self.fc_spinal_layer4 = nn.Sequential(\n",
    "            nn.Linear(1024+20, 20),\n",
    "            nn.ReLU(inplace=True),)\n",
    "        self.fc_out = nn.Sequential(\n",
    "            nn.Linear(20*4, 2),nn.Sigmoid())\n",
    "        \n",
    "    def forward(self, x):\n",
    "\n",
    "        x1 = self.fc_spinal_layer1(x[:, 0:1024])\n",
    "        x2 = self.fc_spinal_layer2(torch.cat([ x[:,1024:2*1024], x1], dim=1))\n",
    "        x3 = self.fc_spinal_layer3(torch.cat([ x[:,0:1024], x2], dim=1))\n",
    "        x4 = self.fc_spinal_layer4(torch.cat([ x[:,1024:2*1024], x3], dim=1))\n",
    "        \n",
    "        \n",
    "        x = torch.cat([x1, x2], dim=1)\n",
    "        x = torch.cat([x, x3], dim=1)\n",
    "        x = torch.cat([x, x4], dim=1)\n",
    "\n",
    "        \n",
    "        x = self.fc_out(x)\n",
    "        \n",
    "        return x"
   ]
  },
  {
   "cell_type": "code",
   "execution_count": null,
   "metadata": {
    "id": "SIzARvW46gjX"
   },
   "outputs": [],
   "source": [
    "class SpinalNet_Dense(nn.Module):\n",
    "    def __init__(self):\n",
    "        super(SpinalNet_Dense, self).__init__()\n",
    "        \n",
    "        self.fc_spinal_layer1 = nn.Sequential(\n",
    "            nn.Dropout(p = 0.5), nn.Linear(960, 240),\n",
    "            nn.BatchNorm1d(240), nn.ReLU(inplace=True),)\n",
    "        self.fc_spinal_layer2 = nn.Sequential(\n",
    "            nn.Dropout(p = 0.5), \n",
    "            nn.Linear(960+240, 240),\n",
    "            nn.BatchNorm1d(240), \n",
    "            nn.ReLU(inplace=True),)\n",
    "        self.fc_spinal_layer3 = nn.Sequential(\n",
    "            nn.Dropout(p = 0.5), \n",
    "            nn.Linear(960+240, 240),\n",
    "            nn.BatchNorm1d(240), \n",
    "            nn.ReLU(inplace=True),)\n",
    "        self.fc_spinal_layer4 = nn.Sequential(\n",
    "            nn.Dropout(p = 0.5), \n",
    "            nn.Linear(960+240, 240),\n",
    "            nn.BatchNorm1d(240), \n",
    "            nn.ReLU(inplace=True),)\n",
    "        self.fc_out = nn.Sequential(\n",
    "            nn.Dropout(p = 0.5), \n",
    "            nn.Linear(240*4, 2),nn.Sigmoid(),)        \n",
    "\n",
    "    def forward(self, x):\n",
    "        x1 = self.fc_spinal_layer1(x[:, 0:960])\n",
    "        x2 = self.fc_spinal_layer2(torch.cat([ x[:,960:2*960], x1], dim=1))\n",
    "        x3 = self.fc_spinal_layer3(torch.cat([ x[:,0:960], x2], dim=1))\n",
    "        x4 = self.fc_spinal_layer4(torch.cat([ x[:,960:2*960], x3], dim=1))\n",
    "        \n",
    "        \n",
    "        x = torch.cat([x1, x2], dim=1)\n",
    "        x = torch.cat([x, x3], dim=1)\n",
    "        x = torch.cat([x, x4], dim=1)\n",
    "\n",
    "        \n",
    "        x = self.fc_out(x)\n",
    "        return x"
   ]
  },
  {
   "cell_type": "code",
   "execution_count": null,
   "metadata": {
    "id": "4lAJU5b5VCIx"
   },
   "outputs": [],
   "source": [
    "resnext50 =models.resnext50_32x4d(pretrained=False)\n",
    "resnext50.fc =  SpinalNet_ResNext_50()\n",
    "resnext50.load_state_dict(torch.load('/content/drive/MyDrive/ResNext_50_SP_FC_Clahe_Edge.pth'))\n",
    "resnext50=resnext50.to(device)\n",
    "resnext50.fc.fc_out=nn.Linear(80,80)"
   ]
  },
  {
   "cell_type": "code",
   "execution_count": null,
   "metadata": {
    "id": "7-rq8ay_5fRe"
   },
   "outputs": [],
   "source": [
    "densenet169=models.densenet169(pretrained=False)\n",
    "num_ftrs = densenet169.classifier.in_features\n",
    "densenet169.classifier = nn.Sequential(nn.Linear(num_ftrs, 2),\n",
    "nn.Sigmoid())\n",
    "densenet169.load_state_dict(torch.load('/content/drive/MyDrive/DenseNet_169_FC_Edge_Clahe.pth'))\n",
    "densenet169=densenet169.to(device)\n",
    "densenet169.classifier = nn.Linear(1664, 1664)"
   ]
  },
  {
   "cell_type": "code",
   "execution_count": null,
   "metadata": {
    "id": "M5q4_vq26KdL"
   },
   "outputs": [],
   "source": [
    "densenet201 =models.densenet201(pretrained=False)\n",
    "densenet201.classifier=SpinalNet_Dense()\n",
    "densenet201.load_state_dict(torch.load('/content/drive/MyDrive/DenseNet_201_SP_FC_Edge_Clahe.pth'))\n",
    "densenet201=densenet201.to(device)\n",
    "densenet201.classifier.fc_out=nn.Linear(960,960)"
   ]
  },
  {
   "cell_type": "code",
   "execution_count": null,
   "metadata": {
    "id": "3laY0wBzy0Fl"
   },
   "outputs": [],
   "source": [
    "for param in resnext50.parameters():\n",
    "    param.requires_grad_(False)\n",
    "\n",
    "for param in densenet169.parameters():\n",
    "    param.requires_grad_(False)\n",
    "    \n",
    "for param in densenet201.parameters():\n",
    "    param.requires_grad_(False)"
   ]
  },
  {
   "cell_type": "code",
   "execution_count": null,
   "metadata": {
    "id": "v2k1TCyD5ffk"
   },
   "outputs": [],
   "source": [
    "class EL1(nn.Module):\n",
    "    def __init__(self):\n",
    "        super(EL1, self).__init__()\n",
    "\n",
    "        self.modelA = resnext50\n",
    "        self.modelB = densenet169\n",
    "        self.modelC = densenet201\n",
    "\n",
    "        self.hidden = nn.Linear(2704, 2704)\n",
    "        self.classifier =nn.Linear(2704, 2)\n",
    "\n",
    "    def forward(self, x):\n",
    "\n",
    "        x1 = self.modelA(x.clone())\n",
    "        x1 = x1.view(x1.size(0), -1)\n",
    "        x2 = self.modelB(x)\n",
    "        x2 = x2.view(x2.size(0), -1)\n",
    "        x3 = self.modelC(x)\n",
    "        x3 = x3.view(x3.size(0), -1)\n",
    "\n",
    "        x = torch.cat((x1, x2,x3), dim=1)\n",
    "        x = self.hidden(torch.softmax(x, dim=1)) \n",
    "        x = self.classifier(torch.sigmoid(x))\n",
    "\n",
    "        return x "
   ]
  },
  {
   "cell_type": "code",
   "execution_count": null,
   "metadata": {
    "id": "2wq_F-bVVCIx"
   },
   "outputs": [],
   "source": [
    "ensemble_1=EL1()\n",
    "ensemble_1 = ensemble_1.to(device)\n",
    "criterion = nn.CrossEntropyLoss()\n",
    "optimizer = optim.Adam(ensemble_1.parameters(), lr=0.0001)\n",
    "exp_lr_scheduler = lr_scheduler.StepLR(optimizer, step_size=10, gamma=0.1)"
   ]
  },
  {
   "cell_type": "code",
   "execution_count": null,
   "metadata": {
    "colab": {
     "base_uri": "https://localhost:8080/"
    },
    "id": "hSGxiCpEVCIx",
    "outputId": "58722b79-3dc7-43fc-b605-277f13d823cf"
   },
   "outputs": [],
   "source": [
    "el_1 = train_model(el_1, criterion, optimizer, exp_lr_scheduler,40)"
   ]
  },
  {
   "cell_type": "code",
   "execution_count": null,
   "metadata": {
    "colab": {
     "base_uri": "https://localhost:8080/",
     "height": 489
    },
    "id": "V_bb8vD9VCIz",
    "outputId": "e44511ed-b494-4f44-d566-a57a2a814ac6"
   },
   "outputs": [],
   "source": [
    "#This code block draw graph for accuracy\n",
    "matplotlib.rcdefaults()\n",
    "epochs=range(0, 40, 1)\n",
    "plt.plot(epochs, train_acc, color='#006BA4')\n",
    "plt.plot(epochs, val_acc, color='#FF800E')\n",
    "plt.grid(b=True, which='major', color='lightgray')\n",
    "plt.grid(b=True, which='minor', color='lightgray')\n",
    "plt.xticks(np.arange(0, 45, 5))\n",
    "plt.yticks(np.arange(0.5, 1, 0.05))\n",
    "plt.rcParams['figure.figsize'] = (8, 6)\n",
    "plt.rcParams['figure.dpi'] = 600\n",
    "plt.xlabel(\"Number of Epochs\")\n",
    "plt.ylabel(\"Accuracy\")\n",
    "plt.title(\"Training Accuracy vs Validation Accuracy\")\n",
    "plt.legend(['Training Acc.', 'Validation Acc.'],loc='lower right')"
   ]
  },
  {
   "cell_type": "code",
   "execution_count": null,
   "metadata": {
    "colab": {
     "base_uri": "https://localhost:8080/",
     "height": 489
    },
    "id": "Kl2F5ffGVCIz",
    "outputId": "46b9971c-b6a7-436c-bcf6-59f1ad24295d"
   },
   "outputs": [],
   "source": [
    "matplotlib.rcdefaults()\n",
    "#This code block draw graph for loss\n",
    "plt.plot(epochs, train_losses, color='#006BA4')\n",
    "plt.plot(epochs, val_losses, color='#FF800E')\n",
    "plt.grid(b=True, which='major', color='lightgray')\n",
    "plt.grid(b=True, which='minor', color='lightgray')\n",
    "plt.xticks(np.arange(0, 45, 5))\n",
    "plt.yticks(np.arange(0, 1.2, 0.2))\n",
    "plt.rcParams['figure.dpi'] = 600\n",
    "#plt.rcParams['figure.figsize'] = (8, 6)\n",
    "plt.xlabel(\"Number of Epochs\")\n",
    "plt.ylabel(\"Loss\")\n",
    "plt.title(\"Training Loss vs Validation Loss\")\n",
    "plt.legend(['Training Loss', 'Validation Loss'],loc='lower right')"
   ]
  },
  {
   "cell_type": "markdown",
   "metadata": {},
   "source": [
    "# Model Test"
   ]
  },
  {
   "cell_type": "code",
   "execution_count": null,
   "metadata": {},
   "outputs": [],
   "source": [
    "get_metric.test_model(ensemble_1,device,dataloaders['val'])"
   ]
  },
  {
   "cell_type": "code",
   "execution_count": null,
   "metadata": {},
   "outputs": [],
   "source": [
    "actuals, predictions = get_metric.test_label_predictions(ensemble_1, device, dataloaders['val'])"
   ]
  },
  {
   "cell_type": "code",
   "execution_count": null,
   "metadata": {},
   "outputs": [],
   "source": [
    "get_metric.get_classification_report(actuals, predictions)"
   ]
  },
  {
   "cell_type": "code",
   "execution_count": null,
   "metadata": {},
   "outputs": [],
   "source": [
    "get_metric.get_confusion_matrix(actuals, predictions)"
   ]
  },
  {
   "cell_type": "code",
   "execution_count": null,
   "metadata": {},
   "outputs": [],
   "source": [
    "get_metric.get_cohen_kappa(actuals, predictions)"
   ]
  },
  {
   "cell_type": "code",
   "execution_count": null,
   "metadata": {},
   "outputs": [],
   "source": [
    "get_metric.get_roc_curves(ensemble_1, device,  dataloaders['val'])"
   ]
  }
 ],
 "metadata": {
  "accelerator": "GPU",
  "colab": {
   "collapsed_sections": [],
   "name": "ensemble#1.ipynb",
   "provenance": []
  },
  "kernelspec": {
   "display_name": "Python 3",
   "language": "python",
   "name": "python3"
  },
  "language_info": {
   "codemirror_mode": {
    "name": "ipython",
    "version": 3
   },
   "file_extension": ".py",
   "mimetype": "text/x-python",
   "name": "python",
   "nbconvert_exporter": "python",
   "pygments_lexer": "ipython3",
   "version": "3.7.3"
  }
 },
 "nbformat": 4,
 "nbformat_minor": 1
}
