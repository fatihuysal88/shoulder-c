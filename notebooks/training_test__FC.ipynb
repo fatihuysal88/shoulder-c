{
 "cells": [
  {
   "cell_type": "code",
   "execution_count": null,
   "metadata": {},
   "outputs": [],
   "source": [
    "from __future__ import print_function, division\n",
    "\n",
    "import os\n",
    "import time\n",
    "import copy\n",
    "import numpy as np\n",
    "import matplotlib.pyplot as plt\n",
    "from get_metrics import *\n",
    "plt.ion()  "
   ]
  },
  {
   "cell_type": "code",
   "execution_count": null,
   "metadata": {},
   "outputs": [],
   "source": [
    "import torch\n",
    "import torchvision\n",
    "import torch.nn as nn\n",
    "import torch.optim as optim\n",
    "from torch.optim import lr_scheduler\n",
    "from torchvision import datasets, models, transforms"
   ]
  },
  {
   "cell_type": "code",
   "execution_count": null,
   "metadata": {},
   "outputs": [],
   "source": [
    "ROOT = 'mura_clahe'\n",
    "data_dir = os.path.join(ROOT, 'mura')\n",
    "images_dir = os.path.join(data_dir, 'images')\n",
    "train_dir = os.path.join(data_dir, 'train')\n",
    "val_dir = os.path.join(data_dir, 'val')"
   ]
  },
  {
   "cell_type": "code",
   "execution_count": null,
   "metadata": {},
   "outputs": [],
   "source": [
    "pretrained_size = 320\n",
    "\n",
    "pretrained_means = [0.485,0.456,0.406]\n",
    "\n",
    "pretrained_stds= [0.229,0.224,0.225]\n",
    "\n",
    "batch_size=8\n",
    "\n",
    "data_transforms = {\n",
    "    \n",
    "    'train': transforms.Compose([\n",
    "        transforms.Resize((pretrained_size,pretrained_size)),\n",
    "                           transforms.RandomHorizontalFlip(),\n",
    "                           transforms.RandomRotation(10),\n",
    "                           transforms.ToTensor(),\n",
    "                           transforms.Normalize(mean = pretrained_means, \n",
    "                                                std = pretrained_stds)\n",
    "    ]),\n",
    "    'val': transforms.Compose([\n",
    "        transforms.Resize((pretrained_size,pretrained_size)),\n",
    "                           transforms.ToTensor(),\n",
    "                           transforms.Normalize(mean = pretrained_means, \n",
    "                                                std = pretrained_stds)\n",
    "    ]),\n",
    "                   }\n",
    "print(\"Initializing Datasets and Dataloaders...\\n\")\n",
    "# Create training and validation datasets\n",
    "image_datasets = {x: datasets.ImageFolder(os.path.join(data_dir, x), data_transforms[x]) for x in ['train', 'val']}\n",
    "# Create training and validation dataloaders\n",
    "dataloaders = {x: torch.utils.data.DataLoader(image_datasets[x], batch_size=batch_size, shuffle=True, num_workers=4,pin_memory=True) for x in ['train', 'val']}\n",
    "device = torch.device(\"cuda:0\")\n",
    "dataset_sizes ={x:len(image_datasets[x]) for x in ['train','val']}"
   ]
  },
  {
   "cell_type": "code",
   "execution_count": null,
   "metadata": {},
   "outputs": [],
   "source": [
    "# Class names convert to index\n",
    "image_datasets['train'].class_to_idx\n",
    "class_names=image_datasets['train'].classes\n",
    "print(\">>Class Names: {}\\n\".format(image_datasets['train'].classes))\n",
    "print(\">>Class Index: {}\\n\".format(image_datasets['train'].class_to_idx))\n",
    "print(\">>Number of images in training={}\\n\".format(dataset_sizes['train']))\n",
    "print(\">>Number of images in test={}\\n\".format(dataset_sizes['val']))\n",
    "print(\"    Number of steps for training set={}\\n\".format(len(dataloaders['train'])))\n",
    "print(\"    Number of steps for test set={}\\n\".format(len(dataloaders['val']))) \n",
    "# 1:positive #0:negative"
   ]
  },
  {
   "cell_type": "code",
   "execution_count": null,
   "metadata": {},
   "outputs": [],
   "source": [
    "train_losses = []\n",
    "train_acc = []\n",
    "val_losses = []\n",
    "val_acc = []"
   ]
  },
  {
   "cell_type": "code",
   "execution_count": null,
   "metadata": {},
   "outputs": [],
   "source": [
    "def train_model(model, criterion, optimizer, scheduler, num_epochs):\n",
    "    since = time.time()\n",
    "    best_model_wts = copy.deepcopy(model.state_dict())\n",
    "    best_acc = 0.0\n",
    "    ghost=True\n",
    "    for epoch in range(num_epochs):\n",
    "        print('Epoch {}/{}'.format(epoch, num_epochs - 1))\n",
    "        print('-' * 10)\n",
    "\n",
    "        # Each epoch has a training and validation phase\n",
    "        for phase in ['train', 'val']:\n",
    "            if phase == 'train':\n",
    "                model.train()  # Set model to training mode\n",
    "            else:\n",
    "                model.eval()   # Set model to evaluate mode\n",
    "\n",
    "            running_loss = 0.0\n",
    "            running_corrects = 0\n",
    "\n",
    "            # Iterate over data.\n",
    "            for inputs, labels in dataloaders[phase]:\n",
    "                inputs = inputs.to(device)\n",
    "                labels = labels.to(device)\n",
    "\n",
    "                # zero the parameter gradients\n",
    "                optimizer.zero_grad()\n",
    "\n",
    "                # forward\n",
    "                # track history if only in train\n",
    "                with torch.set_grad_enabled(phase == 'train'):\n",
    "                    outputs = model(inputs)\n",
    "                    #outputs,aux= model(inputs) only for ınception network\n",
    "                    _, preds = torch.max(outputs, 1)\n",
    "                    loss = criterion(outputs, labels)\n",
    "\n",
    "                    # backward + optimize only if in training phase\n",
    "                    if phase == 'train':\n",
    "                        loss.backward()\n",
    "                        optimizer.step()\n",
    "\n",
    "                # statistics\n",
    "                running_loss += loss.detach() * inputs.size(0) #.item()\n",
    "                running_corrects += torch.sum(preds == labels.data)\n",
    "            if phase == 'train':\n",
    "                scheduler.step()\n",
    "\n",
    "            epoch_loss = running_loss/ dataset_sizes[phase]\n",
    "            epoch_acc = running_corrects.double() / dataset_sizes[phase]\n",
    "            \n",
    "            #Losses and accuracy per epochs are stored in array for plot graphs\n",
    "            if phase == 'train':              \n",
    "                train_losses.append(epoch_loss)\n",
    "                train_acc.append(epoch_acc)\n",
    "                print('{} Loss: {:.4f} Acc: {:.4f}'.format(\n",
    "                phase, epoch_loss, epoch_acc))\n",
    "            if phase == 'val':\n",
    "                print('{} Loss: {:.4f} Acc: {:.4f}'.format(\n",
    "                phase, epoch_loss, epoch_acc))\n",
    "                val_losses.append(epoch_loss)\n",
    "                val_acc.append(epoch_acc)\n",
    "            torch.cuda.empty_cache()\n",
    "\n",
    "            # deep copy the model\n",
    "            if phase == 'val' and epoch_acc > best_acc:\n",
    "                best_acc = epoch_acc\n",
    "                best_model_wts = copy.deepcopy(model.state_dict())\n",
    "            \n",
    "        print()\n",
    "        torch.cuda.empty_cache()\n",
    "    # Determine total traning time\n",
    "    time_elapsed = time.time() - since\n",
    "    print('Training complete in {:.0f}m {:.0f}s'.format(\n",
    "        time_elapsed // 60, time_elapsed % 60))    \n",
    "    # Print best validation accuracy \n",
    "    print('Best val Acc: {:4f}'.format(best_acc))\n",
    "    # load best model weights\n",
    "    model.load_state_dict(best_model_wts)\n",
    "    torch.save(best_model_wts, \"./model.pth\")\n",
    "    return model"
   ]
  },
  {
   "cell_type": "code",
   "execution_count": null,
   "metadata": {},
   "outputs": [],
   "source": [
    "#Resnet Series\n",
    "model_ft=models.resnet34(pretrained=True)#models.resnet34,models.resnet50,models.resnet101,models.resnet152,\n",
    "num_ftrs = model_ft.fc.in_features\n",
    "model_ft.fc =nn.Sequential(nn.Linear(num_ftrs, 2),\n",
    "nn.Sigmoid())"
   ]
  },
  {
   "cell_type": "code",
   "execution_count": null,
   "metadata": {},
   "outputs": [],
   "source": [
    "\"\"\"\n",
    "#Resnext Series\n",
    "model_ft =models.resnext50_32x4d(pretrained=True)#models.resnext50_32x4d,models.resnext101_32x8d\n",
    "num_ftrs = model_ft.fc.in_features\n",
    "model_ft.fc =nn.Sequential(nn.Linear(num_ftrs, 2),\n",
    "nn.Sigmoid())\n",
    "\"\"\""
   ]
  },
  {
   "cell_type": "code",
   "execution_count": null,
   "metadata": {},
   "outputs": [],
   "source": [
    "\"\"\"\n",
    "#VGG Series\n",
    "model_ft =models.vgg13(pretrained=True)#models.vgg13,models.vgg16,models.vgg19\n",
    "num_ftrs = model_ft.classifier[6].in_features\n",
    "model_ft.classifier[6] = nn.Sequential(nn.Linear(num_ftrs, 2))\n",
    "\"\"\""
   ]
  },
  {
   "cell_type": "code",
   "execution_count": null,
   "metadata": {},
   "outputs": [],
   "source": [
    "\"\"\"\n",
    "#Densenet Series\n",
    "model_ft =models.densenet169(pretrained=True)#models.densenet169,models.densenet201\n",
    "num_ftrs = model_ft.classifier.in_features\n",
    "model_ft.classifier = nn.Sequential(nn.Linear(num_ftrs, 2),\n",
    "nn.Sigmoid())\n",
    "\"\"\""
   ]
  },
  {
   "cell_type": "code",
   "execution_count": null,
   "metadata": {},
   "outputs": [],
   "source": [
    "\"\"\"\n",
    "#Inception v3 \n",
    "model_ft =models.inception_v3(pretrained=True)\n",
    "model_ft.AuxLogits.fc = nn.Sequential(nn.Linear(768, 2),\n",
    "nn.Sigmoid())\n",
    "model_ft.fc = nn.Sequential(nn.Linear(2048, 2),\n",
    "nn.Sigmoid())\n",
    "\"\"\""
   ]
  },
  {
   "cell_type": "code",
   "execution_count": null,
   "metadata": {},
   "outputs": [],
   "source": [
    "\"\"\"\n",
    "#Mobilenet v2\n",
    "model_ft =models.mobilenet_v2(pretrained=True)\n",
    "num_ftrs=model_ft.last_channel\n",
    "model_ft.classifier[1] = nn.Sequential(nn.Linear(num_ftrs, 2),\n",
    "nn.Sigmoid())\n",
    "\"\"\""
   ]
  },
  {
   "cell_type": "code",
   "execution_count": null,
   "metadata": {},
   "outputs": [],
   "source": [
    "#model_ft.load_state_dict(torch.load(\"./model.pth\"))"
   ]
  },
  {
   "cell_type": "code",
   "execution_count": null,
   "metadata": {},
   "outputs": [],
   "source": [
    "# Model send to GPU\n",
    "model_ft = model_ft.to(device)"
   ]
  },
  {
   "cell_type": "code",
   "execution_count": null,
   "metadata": {},
   "outputs": [],
   "source": [
    "# Define loss function\n",
    "criterion = nn.CrossEntropyLoss()\n",
    "# Observe that all parameters are being optimized\n",
    "optimizer = optim.Adam(model_ft.parameters(), betas=(0.9,0.999), lr=0.0001)\n",
    "# Decay LR by a factor of 0.1 every 7 epochs\n",
    "exp_lr_scheduler = lr_scheduler.StepLR(optimizer, step_size=10, gamma=0.1)"
   ]
  },
  {
   "cell_type": "code",
   "execution_count": null,
   "metadata": {},
   "outputs": [],
   "source": [
    "model_ft = train_model(model_ft, criterion, optimizer, exp_lr_scheduler,40)"
   ]
  },
  {
   "cell_type": "markdown",
   "metadata": {},
   "source": [
    "# Graphs"
   ]
  },
  {
   "cell_type": "code",
   "execution_count": null,
   "metadata": {},
   "outputs": [],
   "source": [
    "#This code block draw graph for accuracy\n",
    "matplotlib.rcdefaults()\n",
    "epochs=range(0, 40, 1)\n",
    "plt.plot(epochs, train_acc, color='#006BA4')\n",
    "plt.plot(epochs, val_acc, color='#FF800E')\n",
    "plt.grid(b=True, which='major', color='lightgray')\n",
    "plt.grid(b=True, which='minor', color='lightgray')\n",
    "plt.xticks(np.arange(0, 45, 5))\n",
    "plt.yticks(np.arange(0.5, 1, 0.05))\n",
    "plt.rcParams['figure.figsize'] = (8, 6)\n",
    "plt.rcParams['figure.dpi'] = 600\n",
    "plt.xlabel(\"Number of Epochs\")\n",
    "plt.ylabel(\"Accuracy\")\n",
    "plt.title(\"Training Accuracy vs Validation Accuracy\")\n",
    "plt.legend(['Training Acc.', 'Validation Acc.'],loc='lower right')"
   ]
  },
  {
   "cell_type": "code",
   "execution_count": null,
   "metadata": {},
   "outputs": [],
   "source": [
    "#This code block draw graph for loss\n",
    "matplotlib.rcdefaults()\n",
    "plt.plot(epochs, train_losses, color='#006BA4')\n",
    "plt.plot(epochs, val_losses, color='#FF800E')\n",
    "plt.grid(b=True, which='major', color='lightgray')\n",
    "plt.grid(b=True, which='minor', color='lightgray')\n",
    "plt.xticks(np.arange(0, 45, 5))\n",
    "plt.yticks(np.arange(0, 1.2, 0.2))\n",
    "plt.rcParams['figure.dpi'] = 600\n",
    "plt.rcParams['figure.figsize'] = (8, 6)\n",
    "plt.xlabel(\"Number of Epochs\")\n",
    "plt.ylabel(\"Loss\")\n",
    "plt.title(\"Training Loss vs Validation Loss\")\n",
    "plt.legend(['Training Loss', 'Validation Loss'],loc='lower right')"
   ]
  },
  {
   "cell_type": "markdown",
   "metadata": {},
   "source": [
    " #                                                Model Test"
   ]
  },
  {
   "cell_type": "code",
   "execution_count": null,
   "metadata": {},
   "outputs": [],
   "source": [
    "get_metric.test_model(model_ft,device,dataloaders['val'])"
   ]
  },
  {
   "cell_type": "code",
   "execution_count": null,
   "metadata": {},
   "outputs": [],
   "source": [
    "actuals, predictions = get_metric.test_label_predictions(model_ft, device, dataloaders['val'])"
   ]
  },
  {
   "cell_type": "code",
   "execution_count": null,
   "metadata": {},
   "outputs": [],
   "source": [
    "get_metric.get_classification_report(actuals, predictions)"
   ]
  },
  {
   "cell_type": "code",
   "execution_count": null,
   "metadata": {},
   "outputs": [],
   "source": [
    "get_metric.get_confusion_matrix(actuals, predictions)"
   ]
  },
  {
   "cell_type": "code",
   "execution_count": null,
   "metadata": {},
   "outputs": [],
   "source": [
    "get_metric.get_cohen_kappa(actuals, predictions)"
   ]
  },
  {
   "cell_type": "code",
   "execution_count": null,
   "metadata": {},
   "outputs": [],
   "source": [
    "get_metric.get_roc_curves(model_ft, device,  dataloaders['val'])"
   ]
  }
 ],
 "metadata": {
  "kernelspec": {
   "display_name": "Python 3",
   "language": "python",
   "name": "python3"
  },
  "language_info": {
   "codemirror_mode": {
    "name": "ipython",
    "version": 3
   },
   "file_extension": ".py",
   "mimetype": "text/x-python",
   "name": "python",
   "nbconvert_exporter": "python",
   "pygments_lexer": "ipython3",
   "version": "3.7.3"
  }
 },
 "nbformat": 4,
 "nbformat_minor": 4
}
